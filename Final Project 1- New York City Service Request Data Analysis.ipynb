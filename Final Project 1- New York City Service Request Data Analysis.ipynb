{
 "cells": [
  {
   "cell_type": "markdown",
   "metadata": {},
   "source": [
    "Perform a service request data analysis of New York City 311 calls. You will focus on the data wrangling techniques to understand the pattern in the data and also visualize the major complaint types.\n",
    "Domain: Customer Service\n",
    "\n",
    "Analysis Tasks to be performed:\n",
    "\n",
    "(Perform a service request data analysis of New York City 311 calls) \n",
    "\n",
    "Import a 311 NYC service request.\n",
    "Read or convert the columns ‘Created Date’ and Closed Date’ to datetime datatype and create a new column ‘Request_Closing_Time’ as the time elapsed between request creation and request closing. (Hint: Explore the package/module datetime)\n",
    "Provide major insights/patterns that you can offer in a visual format (graphs or tables); at least 4 major conclusions that you can come up with after generic data mining.\n",
    "Order the complaint types based on the average ‘Request_Closing_Time’, grouping them for different locations.\n",
    "Perform a statistical test for the following:\n",
    "Please note: For the below statements you need to state the Null and Alternate and then provide a statistical test to accept or reject the Null Hypothesis along with the corresponding ‘p-value’.\n",
    "\n",
    "Whether the average response time across complaint types is similar or not (overall)\n",
    "Are the type of complaint or service requested and location related?"
   ]
  },
  {
   "cell_type": "code",
   "execution_count": 1,
   "metadata": {},
   "outputs": [],
   "source": [
    "import pandas as pd\n",
    "import numpy as np\n",
    "import matplotlib as mpl\n",
    "from matplotlib import pyplot as plt\n",
    "%matplotlib inline \n",
    "\n",
    "from sklearn.model_selection import train_test_split"
   ]
  },
  {
   "cell_type": "code",
   "execution_count": 2,
   "metadata": {
    "scrolled": true
   },
   "outputs": [
    {
     "name": "stderr",
     "output_type": "stream",
     "text": [
      "C:\\Users\\YashnNaisha\\anaconda3\\lib\\site-packages\\IPython\\core\\interactiveshell.py:3063: DtypeWarning: Columns (48,49) have mixed types.Specify dtype option on import or set low_memory=False.\n",
      "  interactivity=interactivity, compiler=compiler, result=result)\n"
     ]
    }
   ],
   "source": [
    "df = pd.read_csv(\"C://Users//YashnNaisha//Desktop//Data Science//NYC//311_complaints.csv\")"
   ]
  },
  {
   "cell_type": "code",
   "execution_count": 3,
   "metadata": {},
   "outputs": [
    {
     "data": {
      "text/plain": [
       "Index(['Unique Key', 'Created Date', 'Closed Date', 'Agency', 'Agency Name',\n",
       "       'Complaint Type', 'Descriptor', 'Location Type', 'Incident Zip',\n",
       "       'Incident Address', 'Street Name', 'Cross Street 1', 'Cross Street 2',\n",
       "       'Intersection Street 1', 'Intersection Street 2', 'Address Type',\n",
       "       'City', 'Landmark', 'Facility Type', 'Status', 'Due Date',\n",
       "       'Resolution Description', 'Resolution Action Updated Date',\n",
       "       'Community Board', 'Borough', 'X Coordinate (State Plane)',\n",
       "       'Y Coordinate (State Plane)', 'Park Facility Name', 'Park Borough',\n",
       "       'School Name', 'School Number', 'School Region', 'School Code',\n",
       "       'School Phone Number', 'School Address', 'School City', 'School State',\n",
       "       'School Zip', 'School Not Found', 'School or Citywide Complaint',\n",
       "       'Vehicle Type', 'Taxi Company Borough', 'Taxi Pick Up Location',\n",
       "       'Bridge Highway Name', 'Bridge Highway Direction', 'Road Ramp',\n",
       "       'Bridge Highway Segment', 'Garage Lot Name', 'Ferry Direction',\n",
       "       'Ferry Terminal Name', 'Latitude', 'Longitude', 'Location'],\n",
       "      dtype='object')"
      ]
     },
     "execution_count": 3,
     "metadata": {},
     "output_type": "execute_result"
    }
   ],
   "source": [
    "df.columns"
   ]
  },
  {
   "cell_type": "code",
   "execution_count": 4,
   "metadata": {},
   "outputs": [
    {
     "data": {
      "text/plain": [
       "Unique Key                          int64\n",
       "Created Date                       object\n",
       "Closed Date                        object\n",
       "Agency                             object\n",
       "Agency Name                        object\n",
       "Complaint Type                     object\n",
       "Descriptor                         object\n",
       "Location Type                      object\n",
       "Incident Zip                      float64\n",
       "Incident Address                   object\n",
       "Street Name                        object\n",
       "Cross Street 1                     object\n",
       "Cross Street 2                     object\n",
       "Intersection Street 1              object\n",
       "Intersection Street 2              object\n",
       "Address Type                       object\n",
       "City                               object\n",
       "Landmark                           object\n",
       "Facility Type                      object\n",
       "Status                             object\n",
       "Due Date                           object\n",
       "Resolution Description             object\n",
       "Resolution Action Updated Date     object\n",
       "Community Board                    object\n",
       "Borough                            object\n",
       "X Coordinate (State Plane)        float64\n",
       "Y Coordinate (State Plane)        float64\n",
       "Park Facility Name                 object\n",
       "Park Borough                       object\n",
       "School Name                        object\n",
       "School Number                      object\n",
       "School Region                      object\n",
       "School Code                        object\n",
       "School Phone Number                object\n",
       "School Address                     object\n",
       "School City                        object\n",
       "School State                       object\n",
       "School Zip                         object\n",
       "School Not Found                   object\n",
       "School or Citywide Complaint      float64\n",
       "Vehicle Type                      float64\n",
       "Taxi Company Borough              float64\n",
       "Taxi Pick Up Location             float64\n",
       "Bridge Highway Name                object\n",
       "Bridge Highway Direction           object\n",
       "Road Ramp                          object\n",
       "Bridge Highway Segment             object\n",
       "Garage Lot Name                   float64\n",
       "Ferry Direction                    object\n",
       "Ferry Terminal Name                object\n",
       "Latitude                          float64\n",
       "Longitude                         float64\n",
       "Location                           object\n",
       "dtype: object"
      ]
     },
     "execution_count": 4,
     "metadata": {},
     "output_type": "execute_result"
    }
   ],
   "source": [
    "df.dtypes"
   ]
  },
  {
   "cell_type": "code",
   "execution_count": 5,
   "metadata": {},
   "outputs": [],
   "source": [
    "df['Created Date'] = pd.to_datetime(df['Created Date'])\n",
    "df['Closed Date'] = pd.to_datetime(df['Closed Date'])"
   ]
  },
  {
   "cell_type": "markdown",
   "metadata": {},
   "source": [
    "Calculating the Request Closing Time which shows the time it took to resolve the complaint."
   ]
  },
  {
   "cell_type": "code",
   "execution_count": 6,
   "metadata": {},
   "outputs": [],
   "source": [
    "df['Request_closing_time'] = (df['Closed Date'] - df['Created Date']).dt.days\n",
    "df_clean=df[df['Request_closing_time'].notnull()]\n",
    "df_perfect = df_clean[df_clean['Closed Date'] >= df_clean['Created Date']]\n",
    "df_perfect['Day of Week'] = df_perfect['Created Date'].dt.dayofweek\n",
    "df_perfect['Day of Month'] = df_perfect['Created Date'].dt.day\n",
    "df_perfect['Month'] = df_perfect['Created Date'].dt.month\n",
    "df_perfect['Year'] = df_perfect['Created Date'].dt.year\n",
    "df_perfect=df_perfect[df_perfect.Borough!='Unspecified']"
   ]
  },
  {
   "cell_type": "code",
   "execution_count": 7,
   "metadata": {},
   "outputs": [
    {
     "data": {
      "text/plain": [
       "(298534, 54)"
      ]
     },
     "execution_count": 7,
     "metadata": {},
     "output_type": "execute_result"
    }
   ],
   "source": [
    "df_clean.shape"
   ]
  },
  {
   "cell_type": "markdown",
   "metadata": {},
   "source": [
    "Most and Least frequent Complaints "
   ]
  },
  {
   "cell_type": "code",
   "execution_count": 8,
   "metadata": {
    "scrolled": true
   },
   "outputs": [
    {
     "data": {
      "text/plain": [
       "<AxesSubplot:title={'center':'Most and Least common complaints'}>"
      ]
     },
     "execution_count": 8,
     "metadata": {},
     "output_type": "execute_result"
    },
    {
     "data": {
      "image/png": "[encoded data removed]",
      "text/plain": [
       "<Figure size 720x432 with 1 Axes>"
      ]
     },
     "metadata": {
      "needs_background": "light"
     },
     "output_type": "display_data"
    }
   ],
   "source": [
    "(df_clean['Complaint Type'].value_counts()).plot(kind='bar',figsize=(10,6),title='Most and Least common complaints')"
   ]
  },
  {
   "cell_type": "code",
   "execution_count": 9,
   "metadata": {
    "scrolled": true
   },
   "outputs": [
    {
     "data": {
      "text/html": [
       "<div>\n",
       "<style scoped>\n",
       "    .dataframe tbody tr th:only-of-type {\n",
       "        vertical-align: middle;\n",
       "    }\n",
       "\n",
       "    .dataframe tbody tr th {\n",
       "        vertical-align: top;\n",
       "    }\n",
       "\n",
       "    .dataframe thead th {\n",
       "        text-align: right;\n",
       "    }\n",
       "</style>\n",
       "<table border=\"1\" class=\"dataframe\">\n",
       "  <thead>\n",
       "    <tr style=\"text-align: right;\">\n",
       "      <th></th>\n",
       "      <th>Unique Key</th>\n",
       "      <th>Incident Zip</th>\n",
       "      <th>X Coordinate (State Plane)</th>\n",
       "      <th>Y Coordinate (State Plane)</th>\n",
       "      <th>School or Citywide Complaint</th>\n",
       "      <th>Vehicle Type</th>\n",
       "      <th>Taxi Company Borough</th>\n",
       "      <th>Taxi Pick Up Location</th>\n",
       "      <th>Garage Lot Name</th>\n",
       "      <th>Latitude</th>\n",
       "      <th>Longitude</th>\n",
       "      <th>Request_closing_time</th>\n",
       "    </tr>\n",
       "  </thead>\n",
       "  <tbody>\n",
       "    <tr>\n",
       "      <th>count</th>\n",
       "      <td>2.985340e+05</td>\n",
       "      <td>298027.000000</td>\n",
       "      <td>2.971020e+05</td>\n",
       "      <td>297102.000000</td>\n",
       "      <td>0.0</td>\n",
       "      <td>0.0</td>\n",
       "      <td>0.0</td>\n",
       "      <td>0.0</td>\n",
       "      <td>0.0</td>\n",
       "      <td>297102.000000</td>\n",
       "      <td>297102.000000</td>\n",
       "      <td>298534.000000</td>\n",
       "    </tr>\n",
       "    <tr>\n",
       "      <th>mean</th>\n",
       "      <td>3.130087e+07</td>\n",
       "      <td>10848.929886</td>\n",
       "      <td>1.004855e+06</td>\n",
       "      <td>203753.772782</td>\n",
       "      <td>NaN</td>\n",
       "      <td>NaN</td>\n",
       "      <td>NaN</td>\n",
       "      <td>NaN</td>\n",
       "      <td>NaN</td>\n",
       "      <td>40.725883</td>\n",
       "      <td>-73.925625</td>\n",
       "      <td>0.016042</td>\n",
       "    </tr>\n",
       "    <tr>\n",
       "      <th>std</th>\n",
       "      <td>5.740837e+05</td>\n",
       "      <td>583.173185</td>\n",
       "      <td>2.175284e+04</td>\n",
       "      <td>29880.600637</td>\n",
       "      <td>NaN</td>\n",
       "      <td>NaN</td>\n",
       "      <td>NaN</td>\n",
       "      <td>NaN</td>\n",
       "      <td>NaN</td>\n",
       "      <td>0.082014</td>\n",
       "      <td>0.078452</td>\n",
       "      <td>0.181683</td>\n",
       "    </tr>\n",
       "    <tr>\n",
       "      <th>min</th>\n",
       "      <td>3.027948e+07</td>\n",
       "      <td>83.000000</td>\n",
       "      <td>9.133570e+05</td>\n",
       "      <td>121219.000000</td>\n",
       "      <td>NaN</td>\n",
       "      <td>NaN</td>\n",
       "      <td>NaN</td>\n",
       "      <td>NaN</td>\n",
       "      <td>NaN</td>\n",
       "      <td>40.499135</td>\n",
       "      <td>-74.254937</td>\n",
       "      <td>0.000000</td>\n",
       "    </tr>\n",
       "    <tr>\n",
       "      <th>25%</th>\n",
       "      <td>3.080121e+07</td>\n",
       "      <td>10310.000000</td>\n",
       "      <td>9.919760e+05</td>\n",
       "      <td>183337.500000</td>\n",
       "      <td>NaN</td>\n",
       "      <td>NaN</td>\n",
       "      <td>NaN</td>\n",
       "      <td>NaN</td>\n",
       "      <td>NaN</td>\n",
       "      <td>40.669789</td>\n",
       "      <td>-73.972142</td>\n",
       "      <td>0.000000</td>\n",
       "    </tr>\n",
       "    <tr>\n",
       "      <th>50%</th>\n",
       "      <td>3.130562e+07</td>\n",
       "      <td>11208.000000</td>\n",
       "      <td>1.003160e+06</td>\n",
       "      <td>201110.000000</td>\n",
       "      <td>NaN</td>\n",
       "      <td>NaN</td>\n",
       "      <td>NaN</td>\n",
       "      <td>NaN</td>\n",
       "      <td>NaN</td>\n",
       "      <td>40.718655</td>\n",
       "      <td>-73.931780</td>\n",
       "      <td>0.000000</td>\n",
       "    </tr>\n",
       "    <tr>\n",
       "      <th>75%</th>\n",
       "      <td>3.178561e+07</td>\n",
       "      <td>11238.000000</td>\n",
       "      <td>1.018372e+06</td>\n",
       "      <td>224123.000000</td>\n",
       "      <td>NaN</td>\n",
       "      <td>NaN</td>\n",
       "      <td>NaN</td>\n",
       "      <td>NaN</td>\n",
       "      <td>NaN</td>\n",
       "      <td>40.781816</td>\n",
       "      <td>-73.876805</td>\n",
       "      <td>0.000000</td>\n",
       "    </tr>\n",
       "    <tr>\n",
       "      <th>max</th>\n",
       "      <td>3.231065e+07</td>\n",
       "      <td>11697.000000</td>\n",
       "      <td>1.067173e+06</td>\n",
       "      <td>271876.000000</td>\n",
       "      <td>NaN</td>\n",
       "      <td>NaN</td>\n",
       "      <td>NaN</td>\n",
       "      <td>NaN</td>\n",
       "      <td>NaN</td>\n",
       "      <td>40.912869</td>\n",
       "      <td>-73.700760</td>\n",
       "      <td>24.000000</td>\n",
       "    </tr>\n",
       "  </tbody>\n",
       "</table>\n",
       "</div>"
      ],
      "text/plain": [
       "         Unique Key   Incident Zip  X Coordinate (State Plane)  \\\n",
       "count  2.985340e+05  298027.000000                2.971020e+05   \n",
       "mean   3.130087e+07   10848.929886                1.004855e+06   \n",
       "std    5.740837e+05     583.173185                2.175284e+04   \n",
       "min    3.027948e+07      83.000000                9.133570e+05   \n",
       "25%    3.080121e+07   10310.000000                9.919760e+05   \n",
       "50%    3.130562e+07   11208.000000                1.003160e+06   \n",
       "75%    3.178561e+07   11238.000000                1.018372e+06   \n",
       "max    3.231065e+07   11697.000000                1.067173e+06   \n",
       "\n",
       "       Y Coordinate (State Plane)  School or Citywide Complaint  Vehicle Type  \\\n",
       "count               297102.000000                           0.0           0.0   \n",
       "mean                203753.772782                           NaN           NaN   \n",
       "std                  29880.600637                           NaN           NaN   \n",
       "min                 121219.000000                           NaN           NaN   \n",
       "25%                 183337.500000                           NaN           NaN   \n",
       "50%                 201110.000000                           NaN           NaN   \n",
       "75%                 224123.000000                           NaN           NaN   \n",
       "max                 271876.000000                           NaN           NaN   \n",
       "\n",
       "       Taxi Company Borough  Taxi Pick Up Location  Garage Lot Name  \\\n",
       "count                   0.0                    0.0              0.0   \n",
       "mean                    NaN                    NaN              NaN   \n",
       "std                     NaN                    NaN              NaN   \n",
       "min                     NaN                    NaN              NaN   \n",
       "25%                     NaN                    NaN              NaN   \n",
       "50%                     NaN                    NaN              NaN   \n",
       "75%                     NaN                    NaN              NaN   \n",
       "max                     NaN                    NaN              NaN   \n",
       "\n",
       "            Latitude      Longitude  Request_closing_time  \n",
       "count  297102.000000  297102.000000         298534.000000  \n",
       "mean       40.725883     -73.925625              0.016042  \n",
       "std         0.082014       0.078452              0.181683  \n",
       "min        40.499135     -74.254937              0.000000  \n",
       "25%        40.669789     -73.972142              0.000000  \n",
       "50%        40.718655     -73.931780              0.000000  \n",
       "75%        40.781816     -73.876805              0.000000  \n",
       "max        40.912869     -73.700760             24.000000  "
      ]
     },
     "execution_count": 9,
     "metadata": {},
     "output_type": "execute_result"
    }
   ],
   "source": [
    "df_clean.describe()"
   ]
  },
  {
   "cell_type": "code",
   "execution_count": 10,
   "metadata": {},
   "outputs": [
    {
     "data": {
      "text/plain": [
       "Blocked Driveway             76810\n",
       "Illegal Parking              74532\n",
       "Noise - Street/Sidewalk      48076\n",
       "Noise - Commercial           35247\n",
       "Derelict Vehicle             17588\n",
       "Noise - Vehicle              17033\n",
       "Animal Abuse                  7768\n",
       "Traffic                       4496\n",
       "Homeless Encampment           4416\n",
       "Noise - Park                  4022\n",
       "Vending                       3795\n",
       "Drinking                      1275\n",
       "Noise - House of Worship       929\n",
       "Posting Advertisement          648\n",
       "Urinating in Public            592\n",
       "Bike/Roller/Skate Chronic      424\n",
       "Panhandling                    305\n",
       "Disorderly Youth               286\n",
       "Illegal Fireworks              168\n",
       "Graffiti                       113\n",
       "Agency Issues                    6\n",
       "Squeegee                         4\n",
       "Animal in a Park                 1\n",
       "Name: Complaint Type, dtype: int64"
      ]
     },
     "execution_count": 10,
     "metadata": {},
     "output_type": "execute_result"
    }
   ],
   "source": [
    "df_clean['Complaint Type'].value_counts()"
   ]
  },
  {
   "cell_type": "markdown",
   "metadata": {},
   "source": [
    "# Complaint distribution across Boroughs"
   ]
  },
  {
   "cell_type": "code",
   "execution_count": 11,
   "metadata": {
    "scrolled": true
   },
   "outputs": [
    {
     "data": {
      "image/png": "[encoded data removed]",
      "text/plain": [
       "<Figure size 576x432 with 1 Axes>"
      ]
     },
     "metadata": {},
     "output_type": "display_data"
    }
   ],
   "source": [
    "colors = ['#639ace','#ca6b39','#7f67ca','#5ba85f','#c360aa','#a7993f','#cc566a']\n",
    "df_clean['Borough'].value_counts().plot(kind='pie',autopct='%1.1f%%',\n",
    "                        explode = None, startangle=45, shadow=False, colors = colors,\n",
    "                        figsize = (8,6))\n",
    "#plt.legend(title='BOROUGH', loc='upper right', bbox_to_anchor=(1.5,1))\n",
    "plt.axis('equal')\n",
    "plt.title('# complaints distribution across Boroughs (2015)\\n')\n",
    "plt.tight_layout()\n",
    "plt.show()"
   ]
  },
  {
   "cell_type": "markdown",
   "metadata": {},
   "source": [
    "The above Piechart shows that highest number of complaints are from BROOKLYN and second highest from QUEENS"
   ]
  },
  {
   "cell_type": "code",
   "execution_count": 12,
   "metadata": {},
   "outputs": [],
   "source": [
    "df_Brooklyn = df_clean[df_clean['Borough']=='BROOKLYN']"
   ]
  },
  {
   "cell_type": "code",
   "execution_count": 13,
   "metadata": {},
   "outputs": [
    {
     "data": {
      "text/plain": [
       "(98295, 54)"
      ]
     },
     "execution_count": 13,
     "metadata": {},
     "output_type": "execute_result"
    }
   ],
   "source": [
    "df_Brooklyn.shape"
   ]
  },
  {
   "cell_type": "code",
   "execution_count": 14,
   "metadata": {},
   "outputs": [
    {
     "data": {
      "text/plain": [
       "<AxesSubplot:title={'center':'Most Frequent Complaints in Brooklyn'}>"
      ]
     },
     "execution_count": 14,
     "metadata": {},
     "output_type": "execute_result"
    },
    {
     "data": {
      "image/png": "[encoded data removed]",
      "text/plain": [
       "<Figure size 720x432 with 1 Axes>"
      ]
     },
     "metadata": {
      "needs_background": "light"
     },
     "output_type": "display_data"
    }
   ],
   "source": [
    "(df_Brooklyn['Complaint Type'].value_counts()).head(25).plot(kind='bar',\n",
    "                                                    figsize=(10,6),title = 'Most Frequent Complaints in Brooklyn')"
   ]
  },
  {
   "cell_type": "markdown",
   "metadata": {},
   "source": [
    "In Brooklyn, highest number of complaints are of Blocked Driveway and Illegal Parking "
   ]
  },
  {
   "cell_type": "code",
   "execution_count": 15,
   "metadata": {},
   "outputs": [
    {
     "data": {
      "text/plain": [
       "(80629, 54)"
      ]
     },
     "execution_count": 15,
     "metadata": {},
     "output_type": "execute_result"
    }
   ],
   "source": [
    "df_queens = df_clean[df_clean['Borough']=='QUEENS']\n",
    "df_queens.shape"
   ]
  },
  {
   "cell_type": "code",
   "execution_count": 16,
   "metadata": {},
   "outputs": [
    {
     "data": {
      "text/plain": [
       "<AxesSubplot:title={'center':'Most Frequent Complaints in Queens'}>"
      ]
     },
     "execution_count": 16,
     "metadata": {},
     "output_type": "execute_result"
    },
    {
     "data": {
      "image/png": "[encoded data removed]",
      "text/plain": [
       "<Figure size 720x432 with 1 Axes>"
      ]
     },
     "metadata": {
      "needs_background": "light"
     },
     "output_type": "display_data"
    }
   ],
   "source": [
    "(df_queens['Complaint Type'].value_counts()).head(25).plot(kind='bar',\n",
    "                                                    figsize=(10,6),title = 'Most Frequent Complaints in Queens')"
   ]
  },
  {
   "cell_type": "markdown",
   "metadata": {},
   "source": [
    "In Queens as well, the highest number of compliants are for blocked Driveway and Illegal Parking."
   ]
  },
  {
   "cell_type": "markdown",
   "metadata": {},
   "source": [
    "Status of complaints"
   ]
  },
  {
   "cell_type": "code",
   "execution_count": 17,
   "metadata": {},
   "outputs": [
    {
     "data": {
      "text/plain": [
       "Closed      298471\n",
       "Open            36\n",
       "Assigned        26\n",
       "Draft            1\n",
       "Name: Status, dtype: int64"
      ]
     },
     "execution_count": 17,
     "metadata": {},
     "output_type": "execute_result"
    }
   ],
   "source": [
    "df_clean['Status'].value_counts()"
   ]
  },
  {
   "cell_type": "code",
   "execution_count": 18,
   "metadata": {},
   "outputs": [
    {
     "data": {
      "text/plain": [
       "<AxesSubplot:title={'center':'Status'}>"
      ]
     },
     "execution_count": 18,
     "metadata": {},
     "output_type": "execute_result"
    },
    {
     "data": {
      "image/png": "[encoded data removed]",
      "text/plain": [
       "<Figure size 720x432 with 1 Axes>"
      ]
     },
     "metadata": {
      "needs_background": "light"
     },
     "output_type": "display_data"
    }
   ],
   "source": [
    "(df_queens['Status'].value_counts()).plot(kind='bar',\n",
    "                                                    figsize=(10,6),title = 'Status')"
   ]
  },
  {
   "cell_type": "markdown",
   "metadata": {},
   "source": [
    "Average Response Time of resolving Complaints grouping for different locations\n"
   ]
  },
  {
   "cell_type": "code",
   "execution_count": 19,
   "metadata": {},
   "outputs": [
    {
     "data": {
      "text/plain": [
       "506"
      ]
     },
     "execution_count": 19,
     "metadata": {},
     "output_type": "execute_result"
    }
   ],
   "source": [
    "df_clean['City'].isnull().sum()"
   ]
  },
  {
   "cell_type": "code",
   "execution_count": 20,
   "metadata": {},
   "outputs": [
    {
     "name": "stderr",
     "output_type": "stream",
     "text": [
      "C:\\Users\\YashnNaisha\\anaconda3\\lib\\site-packages\\pandas\\core\\series.py:4536: SettingWithCopyWarning: \n",
      "A value is trying to be set on a copy of a slice from a DataFrame\n",
      "\n",
      "See the caveats in the documentation: https://pandas.pydata.org/pandas-docs/stable/user_guide/indexing.html#returning-a-view-versus-a-copy\n",
      "  downcast=downcast,\n"
     ]
    }
   ],
   "source": [
    "df_clean['City'].fillna('Not Available', inplace=True)"
   ]
  },
  {
   "cell_type": "code",
   "execution_count": 21,
   "metadata": {},
   "outputs": [],
   "source": [
    "df_nyc_grouped = df_clean.groupby(['City', 'Complaint Type'])\n"
   ]
  },
  {
   "cell_type": "code",
   "execution_count": 22,
   "metadata": {},
   "outputs": [
    {
     "data": {
      "text/plain": [
       "0"
      ]
     },
     "execution_count": 22,
     "metadata": {},
     "output_type": "execute_result"
    }
   ],
   "source": [
    "df_nyc_mean = df_nyc_grouped.mean()['Request_closing_time']\n",
    "df_nyc_mean.isnull().sum()"
   ]
  },
  {
   "cell_type": "code",
   "execution_count": 23,
   "metadata": {},
   "outputs": [
    {
     "data": {
      "text/html": [
       "<div>\n",
       "<style scoped>\n",
       "    .dataframe tbody tr th:only-of-type {\n",
       "        vertical-align: middle;\n",
       "    }\n",
       "\n",
       "    .dataframe tbody tr th {\n",
       "        vertical-align: top;\n",
       "    }\n",
       "\n",
       "    .dataframe thead th {\n",
       "        text-align: right;\n",
       "    }\n",
       "</style>\n",
       "<table border=\"1\" class=\"dataframe\">\n",
       "  <thead>\n",
       "    <tr style=\"text-align: right;\">\n",
       "      <th></th>\n",
       "      <th></th>\n",
       "      <th>Request_closing_time</th>\n",
       "    </tr>\n",
       "    <tr>\n",
       "      <th>City</th>\n",
       "      <th>Complaint Type</th>\n",
       "      <th></th>\n",
       "    </tr>\n",
       "  </thead>\n",
       "  <tbody>\n",
       "    <tr>\n",
       "      <th rowspan=\"5\" valign=\"top\">ARVERNE</th>\n",
       "      <th>Animal Abuse</th>\n",
       "      <td>0.00</td>\n",
       "    </tr>\n",
       "    <tr>\n",
       "      <th>Blocked Driveway</th>\n",
       "      <td>0.00</td>\n",
       "    </tr>\n",
       "    <tr>\n",
       "      <th>Derelict Vehicle</th>\n",
       "      <td>0.00</td>\n",
       "    </tr>\n",
       "    <tr>\n",
       "      <th>Disorderly Youth</th>\n",
       "      <td>0.00</td>\n",
       "    </tr>\n",
       "    <tr>\n",
       "      <th>Drinking</th>\n",
       "      <td>0.00</td>\n",
       "    </tr>\n",
       "    <tr>\n",
       "      <th>...</th>\n",
       "      <th>...</th>\n",
       "      <td>...</td>\n",
       "    </tr>\n",
       "    <tr>\n",
       "      <th rowspan=\"5\" valign=\"top\">Woodside</th>\n",
       "      <th>Blocked Driveway</th>\n",
       "      <td>0.00</td>\n",
       "    </tr>\n",
       "    <tr>\n",
       "      <th>Derelict Vehicle</th>\n",
       "      <td>0.00</td>\n",
       "    </tr>\n",
       "    <tr>\n",
       "      <th>Illegal Parking</th>\n",
       "      <td>0.01</td>\n",
       "    </tr>\n",
       "    <tr>\n",
       "      <th>Noise - Commercial</th>\n",
       "      <td>0.00</td>\n",
       "    </tr>\n",
       "    <tr>\n",
       "      <th>Noise - Street/Sidewalk</th>\n",
       "      <td>0.00</td>\n",
       "    </tr>\n",
       "  </tbody>\n",
       "</table>\n",
       "<p>778 rows × 1 columns</p>\n",
       "</div>"
      ],
      "text/plain": [
       "                                  Request_closing_time\n",
       "City     Complaint Type                               \n",
       "ARVERNE  Animal Abuse                             0.00\n",
       "         Blocked Driveway                         0.00\n",
       "         Derelict Vehicle                         0.00\n",
       "         Disorderly Youth                         0.00\n",
       "         Drinking                                 0.00\n",
       "...                                                ...\n",
       "Woodside Blocked Driveway                         0.00\n",
       "         Derelict Vehicle                         0.00\n",
       "         Illegal Parking                          0.01\n",
       "         Noise - Commercial                       0.00\n",
       "         Noise - Street/Sidewalk                  0.00\n",
       "\n",
       "[778 rows x 1 columns]"
      ]
     },
     "execution_count": 23,
     "metadata": {},
     "output_type": "execute_result"
    }
   ],
   "source": [
    "df_nyc_grouped = df_clean.groupby(['City','Complaint Type']).agg({'Request_closing_time': 'mean'})\n",
    "df_nyc_grouped"
   ]
  },
  {
   "cell_type": "code",
   "execution_count": 24,
   "metadata": {},
   "outputs": [],
   "source": [
    "# Null Hypothesis: H0 : All Complain Types average response time mean is similar\n",
    "# Alternate Hypothesis:  H1 : Not similar"
   ]
  },
  {
   "cell_type": "code",
   "execution_count": 25,
   "metadata": {},
   "outputs": [
    {
     "data": {
      "text/plain": [
       "Blocked Driveway           76810\n",
       "Illegal Parking            74532\n",
       "Noise - Street/Sidewalk    48076\n",
       "Noise - Commercial         35247\n",
       "Derelict Vehicle           17588\n",
       "Name: Complaint Type, dtype: int64"
      ]
     },
     "execution_count": 25,
     "metadata": {},
     "output_type": "execute_result"
    }
   ],
   "source": [
    "top5_complaint_type = df_clean['Complaint Type'].value_counts()[:5]\n",
    "top5_complaint_type"
   ]
  },
  {
   "cell_type": "code",
   "execution_count": 26,
   "metadata": {},
   "outputs": [
    {
     "data": {
      "text/html": [
       "<div>\n",
       "<style scoped>\n",
       "    .dataframe tbody tr th:only-of-type {\n",
       "        vertical-align: middle;\n",
       "    }\n",
       "\n",
       "    .dataframe tbody tr th {\n",
       "        vertical-align: top;\n",
       "    }\n",
       "\n",
       "    .dataframe thead th {\n",
       "        text-align: right;\n",
       "    }\n",
       "</style>\n",
       "<table border=\"1\" class=\"dataframe\">\n",
       "  <thead>\n",
       "    <tr style=\"text-align: right;\">\n",
       "      <th></th>\n",
       "      <th>Complaint Type</th>\n",
       "      <th>Request_closing_time</th>\n",
       "    </tr>\n",
       "  </thead>\n",
       "  <tbody>\n",
       "    <tr>\n",
       "      <th>0</th>\n",
       "      <td>Noise - Street/Sidewalk</td>\n",
       "      <td>0.0</td>\n",
       "    </tr>\n",
       "    <tr>\n",
       "      <th>1</th>\n",
       "      <td>Blocked Driveway</td>\n",
       "      <td>0.0</td>\n",
       "    </tr>\n",
       "    <tr>\n",
       "      <th>2</th>\n",
       "      <td>Blocked Driveway</td>\n",
       "      <td>0.0</td>\n",
       "    </tr>\n",
       "    <tr>\n",
       "      <th>3</th>\n",
       "      <td>Illegal Parking</td>\n",
       "      <td>0.0</td>\n",
       "    </tr>\n",
       "    <tr>\n",
       "      <th>4</th>\n",
       "      <td>Illegal Parking</td>\n",
       "      <td>0.0</td>\n",
       "    </tr>\n",
       "  </tbody>\n",
       "</table>\n",
       "</div>"
      ],
      "text/plain": [
       "            Complaint Type  Request_closing_time\n",
       "0  Noise - Street/Sidewalk                   0.0\n",
       "1         Blocked Driveway                   0.0\n",
       "2         Blocked Driveway                   0.0\n",
       "3          Illegal Parking                   0.0\n",
       "4          Illegal Parking                   0.0"
      ]
     },
     "execution_count": 26,
     "metadata": {},
     "output_type": "execute_result"
    }
   ],
   "source": [
    "sample_data = df_clean.loc[df_clean['Complaint Type'].isin(top5_complaint_type.index),['Complaint Type', 'Request_closing_time']]\n",
    "sample_data.head()"
   ]
  },
  {
   "cell_type": "code",
   "execution_count": 27,
   "metadata": {},
   "outputs": [
    {
     "data": {
      "text/plain": [
       "(252253, 2)"
      ]
     },
     "execution_count": 27,
     "metadata": {},
     "output_type": "execute_result"
    }
   ],
   "source": [
    "sample_data.shape"
   ]
  },
  {
   "cell_type": "code",
   "execution_count": 28,
   "metadata": {},
   "outputs": [
    {
     "data": {
      "text/plain": [
       "Complaint Type          0\n",
       "Request_closing_time    0\n",
       "dtype: int64"
      ]
     },
     "execution_count": 28,
     "metadata": {},
     "output_type": "execute_result"
    }
   ],
   "source": [
    "sample_data.isnull().sum()"
   ]
  },
  {
   "cell_type": "markdown",
   "metadata": {},
   "source": [
    "Performing Statistical Test"
   ]
  },
  {
   "cell_type": "code",
   "execution_count": 29,
   "metadata": {},
   "outputs": [],
   "source": [
    "# from pandas_profiling import ProfileReport\n",
    "# profile=ProfileReport(df_clean,title='Data Report')\n",
    "# profile.to_file(output_file='output.html')"
   ]
  },
  {
   "cell_type": "code",
   "execution_count": 30,
   "metadata": {},
   "outputs": [
    {
     "data": {
      "text/html": [
       "<div>\n",
       "<style scoped>\n",
       "    .dataframe tbody tr th:only-of-type {\n",
       "        vertical-align: middle;\n",
       "    }\n",
       "\n",
       "    .dataframe tbody tr th {\n",
       "        vertical-align: top;\n",
       "    }\n",
       "\n",
       "    .dataframe thead th {\n",
       "        text-align: right;\n",
       "    }\n",
       "</style>\n",
       "<table border=\"1\" class=\"dataframe\">\n",
       "  <thead>\n",
       "    <tr style=\"text-align: right;\">\n",
       "      <th></th>\n",
       "      <th>Complaint Type</th>\n",
       "      <th>City</th>\n",
       "    </tr>\n",
       "  </thead>\n",
       "  <tbody>\n",
       "    <tr>\n",
       "      <th>0</th>\n",
       "      <td>Noise - Street/Sidewalk</td>\n",
       "      <td>NEW YORK</td>\n",
       "    </tr>\n",
       "    <tr>\n",
       "      <th>1</th>\n",
       "      <td>Blocked Driveway</td>\n",
       "      <td>ASTORIA</td>\n",
       "    </tr>\n",
       "    <tr>\n",
       "      <th>2</th>\n",
       "      <td>Blocked Driveway</td>\n",
       "      <td>BRONX</td>\n",
       "    </tr>\n",
       "    <tr>\n",
       "      <th>3</th>\n",
       "      <td>Illegal Parking</td>\n",
       "      <td>BRONX</td>\n",
       "    </tr>\n",
       "    <tr>\n",
       "      <th>4</th>\n",
       "      <td>Illegal Parking</td>\n",
       "      <td>ELMHURST</td>\n",
       "    </tr>\n",
       "  </tbody>\n",
       "</table>\n",
       "</div>"
      ],
      "text/plain": [
       "            Complaint Type      City\n",
       "0  Noise - Street/Sidewalk  NEW YORK\n",
       "1         Blocked Driveway   ASTORIA\n",
       "2         Blocked Driveway     BRONX\n",
       "3          Illegal Parking     BRONX\n",
       "4          Illegal Parking  ELMHURST"
      ]
     },
     "execution_count": 30,
     "metadata": {},
     "output_type": "execute_result"
    }
   ],
   "source": [
    "sample_data = df_clean.loc[df_clean['Complaint Type'].isin(top5_complaint_type.index),['Complaint Type', 'City']]\n",
    "sample_data.head()"
   ]
  },
  {
   "cell_type": "code",
   "execution_count": 31,
   "metadata": {},
   "outputs": [
    {
     "data": {
      "text/html": [
       "<div>\n",
       "<style scoped>\n",
       "    .dataframe tbody tr th:only-of-type {\n",
       "        vertical-align: middle;\n",
       "    }\n",
       "\n",
       "    .dataframe tbody tr th {\n",
       "        vertical-align: top;\n",
       "    }\n",
       "\n",
       "    .dataframe thead th {\n",
       "        text-align: right;\n",
       "    }\n",
       "</style>\n",
       "<table border=\"1\" class=\"dataframe\">\n",
       "  <thead>\n",
       "    <tr style=\"text-align: right;\">\n",
       "      <th>City</th>\n",
       "      <th>ARVERNE</th>\n",
       "      <th>ASTORIA</th>\n",
       "      <th>Astoria</th>\n",
       "      <th>BAYSIDE</th>\n",
       "      <th>BELLEROSE</th>\n",
       "      <th>BREEZY POINT</th>\n",
       "      <th>BRONX</th>\n",
       "      <th>BROOKLYN</th>\n",
       "      <th>CAMBRIA HEIGHTS</th>\n",
       "      <th>CENTRAL PARK</th>\n",
       "      <th>...</th>\n",
       "      <th>SOUTH OZONE PARK</th>\n",
       "      <th>SOUTH RICHMOND HILL</th>\n",
       "      <th>SPRINGFIELD GARDENS</th>\n",
       "      <th>STATEN ISLAND</th>\n",
       "      <th>SUNNYSIDE</th>\n",
       "      <th>WHITESTONE</th>\n",
       "      <th>WOODHAVEN</th>\n",
       "      <th>WOODSIDE</th>\n",
       "      <th>Woodside</th>\n",
       "      <th>All</th>\n",
       "    </tr>\n",
       "    <tr>\n",
       "      <th>Complaint Type</th>\n",
       "      <th></th>\n",
       "      <th></th>\n",
       "      <th></th>\n",
       "      <th></th>\n",
       "      <th></th>\n",
       "      <th></th>\n",
       "      <th></th>\n",
       "      <th></th>\n",
       "      <th></th>\n",
       "      <th></th>\n",
       "      <th></th>\n",
       "      <th></th>\n",
       "      <th></th>\n",
       "      <th></th>\n",
       "      <th></th>\n",
       "      <th></th>\n",
       "      <th></th>\n",
       "      <th></th>\n",
       "      <th></th>\n",
       "      <th></th>\n",
       "      <th></th>\n",
       "    </tr>\n",
       "  </thead>\n",
       "  <tbody>\n",
       "    <tr>\n",
       "      <th>Blocked Driveway</th>\n",
       "      <td>35</td>\n",
       "      <td>2618</td>\n",
       "      <td>116</td>\n",
       "      <td>377</td>\n",
       "      <td>95</td>\n",
       "      <td>3</td>\n",
       "      <td>12754</td>\n",
       "      <td>28147</td>\n",
       "      <td>147</td>\n",
       "      <td>0</td>\n",
       "      <td>...</td>\n",
       "      <td>942</td>\n",
       "      <td>1548</td>\n",
       "      <td>262</td>\n",
       "      <td>2142</td>\n",
       "      <td>206</td>\n",
       "      <td>208</td>\n",
       "      <td>1059</td>\n",
       "      <td>1613</td>\n",
       "      <td>11</td>\n",
       "      <td>76810</td>\n",
       "    </tr>\n",
       "    <tr>\n",
       "      <th>Derelict Vehicle</th>\n",
       "      <td>27</td>\n",
       "      <td>351</td>\n",
       "      <td>12</td>\n",
       "      <td>198</td>\n",
       "      <td>89</td>\n",
       "      <td>3</td>\n",
       "      <td>1952</td>\n",
       "      <td>5179</td>\n",
       "      <td>115</td>\n",
       "      <td>0</td>\n",
       "      <td>...</td>\n",
       "      <td>358</td>\n",
       "      <td>289</td>\n",
       "      <td>210</td>\n",
       "      <td>1766</td>\n",
       "      <td>10</td>\n",
       "      <td>227</td>\n",
       "      <td>308</td>\n",
       "      <td>247</td>\n",
       "      <td>2</td>\n",
       "      <td>17588</td>\n",
       "    </tr>\n",
       "    <tr>\n",
       "      <th>Illegal Parking</th>\n",
       "      <td>58</td>\n",
       "      <td>1068</td>\n",
       "      <td>213</td>\n",
       "      <td>514</td>\n",
       "      <td>106</td>\n",
       "      <td>15</td>\n",
       "      <td>7859</td>\n",
       "      <td>27461</td>\n",
       "      <td>76</td>\n",
       "      <td>2</td>\n",
       "      <td>...</td>\n",
       "      <td>494</td>\n",
       "      <td>462</td>\n",
       "      <td>238</td>\n",
       "      <td>4886</td>\n",
       "      <td>122</td>\n",
       "      <td>525</td>\n",
       "      <td>682</td>\n",
       "      <td>891</td>\n",
       "      <td>100</td>\n",
       "      <td>74532</td>\n",
       "    </tr>\n",
       "    <tr>\n",
       "      <th>Noise - Commercial</th>\n",
       "      <td>2</td>\n",
       "      <td>1293</td>\n",
       "      <td>261</td>\n",
       "      <td>40</td>\n",
       "      <td>37</td>\n",
       "      <td>4</td>\n",
       "      <td>2433</td>\n",
       "      <td>11458</td>\n",
       "      <td>12</td>\n",
       "      <td>0</td>\n",
       "      <td>...</td>\n",
       "      <td>70</td>\n",
       "      <td>198</td>\n",
       "      <td>36</td>\n",
       "      <td>677</td>\n",
       "      <td>161</td>\n",
       "      <td>16</td>\n",
       "      <td>175</td>\n",
       "      <td>209</td>\n",
       "      <td>2</td>\n",
       "      <td>35247</td>\n",
       "    </tr>\n",
       "    <tr>\n",
       "      <th>Noise - Street/Sidewalk</th>\n",
       "      <td>29</td>\n",
       "      <td>386</td>\n",
       "      <td>114</td>\n",
       "      <td>15</td>\n",
       "      <td>13</td>\n",
       "      <td>1</td>\n",
       "      <td>8890</td>\n",
       "      <td>13354</td>\n",
       "      <td>25</td>\n",
       "      <td>95</td>\n",
       "      <td>...</td>\n",
       "      <td>105</td>\n",
       "      <td>91</td>\n",
       "      <td>38</td>\n",
       "      <td>816</td>\n",
       "      <td>65</td>\n",
       "      <td>33</td>\n",
       "      <td>86</td>\n",
       "      <td>250</td>\n",
       "      <td>5</td>\n",
       "      <td>48076</td>\n",
       "    </tr>\n",
       "    <tr>\n",
       "      <th>All</th>\n",
       "      <td>151</td>\n",
       "      <td>5716</td>\n",
       "      <td>716</td>\n",
       "      <td>1144</td>\n",
       "      <td>340</td>\n",
       "      <td>26</td>\n",
       "      <td>33888</td>\n",
       "      <td>85599</td>\n",
       "      <td>375</td>\n",
       "      <td>97</td>\n",
       "      <td>...</td>\n",
       "      <td>1969</td>\n",
       "      <td>2588</td>\n",
       "      <td>784</td>\n",
       "      <td>10287</td>\n",
       "      <td>564</td>\n",
       "      <td>1009</td>\n",
       "      <td>2310</td>\n",
       "      <td>3210</td>\n",
       "      <td>120</td>\n",
       "      <td>252253</td>\n",
       "    </tr>\n",
       "  </tbody>\n",
       "</table>\n",
       "<p>6 rows × 55 columns</p>\n",
       "</div>"
      ],
      "text/plain": [
       "City                     ARVERNE  ASTORIA  Astoria  BAYSIDE  BELLEROSE  \\\n",
       "Complaint Type                                                           \n",
       "Blocked Driveway              35     2618      116      377         95   \n",
       "Derelict Vehicle              27      351       12      198         89   \n",
       "Illegal Parking               58     1068      213      514        106   \n",
       "Noise - Commercial             2     1293      261       40         37   \n",
       "Noise - Street/Sidewalk       29      386      114       15         13   \n",
       "All                          151     5716      716     1144        340   \n",
       "\n",
       "City                     BREEZY POINT  BRONX  BROOKLYN  CAMBRIA HEIGHTS  \\\n",
       "Complaint Type                                                            \n",
       "Blocked Driveway                    3  12754     28147              147   \n",
       "Derelict Vehicle                    3   1952      5179              115   \n",
       "Illegal Parking                    15   7859     27461               76   \n",
       "Noise - Commercial                  4   2433     11458               12   \n",
       "Noise - Street/Sidewalk             1   8890     13354               25   \n",
       "All                                26  33888     85599              375   \n",
       "\n",
       "City                     CENTRAL PARK  ...  SOUTH OZONE PARK  \\\n",
       "Complaint Type                         ...                     \n",
       "Blocked Driveway                    0  ...               942   \n",
       "Derelict Vehicle                    0  ...               358   \n",
       "Illegal Parking                     2  ...               494   \n",
       "Noise - Commercial                  0  ...                70   \n",
       "Noise - Street/Sidewalk            95  ...               105   \n",
       "All                                97  ...              1969   \n",
       "\n",
       "City                     SOUTH RICHMOND HILL  SPRINGFIELD GARDENS  \\\n",
       "Complaint Type                                                      \n",
       "Blocked Driveway                        1548                  262   \n",
       "Derelict Vehicle                         289                  210   \n",
       "Illegal Parking                          462                  238   \n",
       "Noise - Commercial                       198                   36   \n",
       "Noise - Street/Sidewalk                   91                   38   \n",
       "All                                     2588                  784   \n",
       "\n",
       "City                     STATEN ISLAND  SUNNYSIDE  WHITESTONE  WOODHAVEN  \\\n",
       "Complaint Type                                                             \n",
       "Blocked Driveway                  2142        206         208       1059   \n",
       "Derelict Vehicle                  1766         10         227        308   \n",
       "Illegal Parking                   4886        122         525        682   \n",
       "Noise - Commercial                 677        161          16        175   \n",
       "Noise - Street/Sidewalk            816         65          33         86   \n",
       "All                              10287        564        1009       2310   \n",
       "\n",
       "City                     WOODSIDE  Woodside     All  \n",
       "Complaint Type                                       \n",
       "Blocked Driveway             1613        11   76810  \n",
       "Derelict Vehicle              247         2   17588  \n",
       "Illegal Parking               891       100   74532  \n",
       "Noise - Commercial            209         2   35247  \n",
       "Noise - Street/Sidewalk       250         5   48076  \n",
       "All                          3210       120  252253  \n",
       "\n",
       "[6 rows x 55 columns]"
      ]
     },
     "execution_count": 31,
     "metadata": {},
     "output_type": "execute_result"
    }
   ],
   "source": [
    "pd.crosstab(sample_data['Complaint Type'], sample_data['City'], margins=True)"
   ]
  },
  {
   "cell_type": "code",
   "execution_count": 32,
   "metadata": {},
   "outputs": [],
   "source": [
    "import scipy.stats as stats"
   ]
  },
  {
   "cell_type": "code",
   "execution_count": 33,
   "metadata": {},
   "outputs": [],
   "source": [
    "ch2, p_value, df, exp_frq = stats.chi2_contingency(pd.crosstab(sample_data['Complaint Type'], sample_data['City']))"
   ]
  },
  {
   "cell_type": "code",
   "execution_count": 34,
   "metadata": {},
   "outputs": [
    {
     "name": "stdout",
     "output_type": "stream",
     "text": [
      "73076.9289804761\n",
      "0.0\n"
     ]
    }
   ],
   "source": [
    "print(ch2)\n",
    "print(p_value)"
   ]
  },
  {
   "cell_type": "code",
   "execution_count": null,
   "metadata": {},
   "outputs": [],
   "source": [
    "#We can see pvalue is less than 0.05 so we reject null hypothesis means complain type and location are not independent."
   ]
  },
  {
   "cell_type": "code",
   "execution_count": null,
   "metadata": {},
   "outputs": [],
   "source": [
    "\n",
    "\n",
    "    "
   ]
  },
  {
   "cell_type": "code",
   "execution_count": null,
   "metadata": {},
   "outputs": [],
   "source": []
  }
 ],
 "metadata": {
  "kernelspec": {
   "display_name": "Python 3",
   "language": "python",
   "name": "python3"
  },
  "language_info": {
   "codemirror_mode": {
    "name": "ipython",
    "version": 3
   },
   "file_extension": ".py",
   "mimetype": "text/x-python",
   "name": "python",
   "nbconvert_exporter": "python",
   "pygments_lexer": "ipython3",
   "version": "3.7.6"
  }
 },
 "nbformat": 4,
 "nbformat_minor": 4
}
